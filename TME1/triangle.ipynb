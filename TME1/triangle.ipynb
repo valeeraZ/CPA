{
 "cells": [
  {
   "cell_type": "code",
   "execution_count": 61,
   "metadata": {},
   "outputs": [],
   "source": [
    "import sys, os, time\n",
    "from math import inf, isinf\n",
    "import networkx as nx\n",
    "import numpy as np\n",
    "import pandas as pd\n",
    "from itertools import islice"
   ]
  },
  {
   "cell_type": "code",
   "execution_count": 62,
   "metadata": {},
   "outputs": [],
   "source": [
    "def load_graph(filename):\n",
    "    \"\"\"\n",
    "    load a graph from file of format:\n",
    "    src dest\n",
    "    :param filename:\n",
    "    :return: G: nx.graph, list of edges, list of nodes\n",
    "    \"\"\"\n",
    "    #time_start = time.time()\n",
    "    edges = pd.read_table(filename, skiprows=4,sep='\\t', header=None).to_numpy()\n",
    "    #print(\"Number of edges:\", len(edges))\n",
    "    nodes = set()\n",
    "    for edge in edges:\n",
    "        nodes.add(edge[0])\n",
    "        nodes.add(edge[1])\n",
    "    #print(\"Number of nodes:\", len(nodes))\n",
    "    # make id-index correspondence\n",
    "    v = 0\n",
    "    # dictionary id node:index\n",
    "    node_to_index = {}\n",
    "    for node in nodes:\n",
    "        node_to_index[node] = v\n",
    "        v += 1\n",
    "    for edge in edges:\n",
    "        edge[0] = node_to_index[edge[0]]\n",
    "        edge[1] = node_to_index[edge[1]]\n",
    "    nbnodes = len(node_to_index.values())\n",
    "\n",
    "    #time_end = time.time()\n",
    "    #print(\"Charge time:\", time_end - time_start, \"seconds\")\n",
    "    \n",
    "    return edges, nbnodes"
   ]
  },
  {
   "cell_type": "code",
   "execution_count": 138,
   "metadata": {},
   "outputs": [],
   "source": [
    "def load_graph2(filename):\n",
    "    f = open(filename, 'r')\n",
    "    nodes = set()\n",
    "    nbe = 0\n",
    "    edges = {}\n",
    "    for edge in [line.strip('\\n').split() for line in islice(f, 4, None)]:\n",
    "        nbe = nbe + 1\n",
    "        nodes.add(edge[0])\n",
    "        nodes.add(edge[1])\n",
    "        e1 = int(edge[0])\n",
    "        e2 = int(edge[1])\n",
    "        if e1 not in edges:\n",
    "            edges[e1]=[]\n",
    "        if e2 not in edges:\n",
    "            edges[e2]=[]\n",
    "        if e1 > e2 :\n",
    "                edges[e2].append(e1)\n",
    "        else:\n",
    "                edges[e1].append(e2)\n",
    "    return edges,len(nodes),nbe"
   ]
  },
  {
   "cell_type": "code",
   "execution_count": 139,
   "metadata": {},
   "outputs": [
    {
     "data": {
      "text/plain": [
       "array([[0, 1],\n",
       "       [0, 2],\n",
       "       [0, 3],\n",
       "       [0, 4],\n",
       "       [1, 2],\n",
       "       [1, 3],\n",
       "       [1, 4],\n",
       "       [1, 5],\n",
       "       [2, 3],\n",
       "       [2, 5],\n",
       "       [5, 6],\n",
       "       [5, 8],\n",
       "       [6, 7]], dtype=int64)"
      ]
     },
     "execution_count": 139,
     "metadata": {},
     "output_type": "execute_result"
    }
   ],
   "source": [
    "e,n = load_graph('test.txt')\n",
    "e"
   ]
  },
  {
   "cell_type": "code",
   "execution_count": 140,
   "metadata": {},
   "outputs": [
    {
     "data": {
      "text/plain": [
       "{1: [2, 3, 4, 5],\n",
       " 2: [3, 4, 5, 6],\n",
       " 3: [4, 6],\n",
       " 4: [],\n",
       " 5: [],\n",
       " 6: [7, 9],\n",
       " 7: [8],\n",
       " 9: [],\n",
       " 8: []}"
      ]
     },
     "execution_count": 140,
     "metadata": {},
     "output_type": "execute_result"
    }
   ],
   "source": [
    "e1,n1,ne = load_graph2('test.txt')\n",
    "e1"
   ]
  },
  {
   "cell_type": "code",
   "execution_count": 141,
   "metadata": {},
   "outputs": [],
   "source": [
    "def mkadja(edges,nbnode):\n",
    "    dic = {v:[] for v in range(0,nbnode)}\n",
    "    \n",
    "    for (e1,e2) in edges:\n",
    "        if e1 > e2 :\n",
    "            dic[e2].append(e1)\n",
    "        else:\n",
    "            dic[e1].append(e2)\n",
    "\n",
    "    return dic"
   ]
  },
  {
   "cell_type": "code",
   "execution_count": 142,
   "metadata": {},
   "outputs": [
    {
     "data": {
      "text/plain": [
       "{0: [1, 2, 3, 4],\n",
       " 1: [2, 3, 4, 5],\n",
       " 2: [3, 5],\n",
       " 3: [],\n",
       " 4: [],\n",
       " 5: [6, 8],\n",
       " 6: [7],\n",
       " 7: [],\n",
       " 8: []}"
      ]
     },
     "execution_count": 142,
     "metadata": {},
     "output_type": "execute_result"
    }
   ],
   "source": [
    "mkadja(e,n)"
   ]
  },
  {
   "cell_type": "code",
   "execution_count": 143,
   "metadata": {},
   "outputs": [],
   "source": [
    "def triangle(adj):\n",
    "    res = []\n",
    "    for i in adj:\n",
    "        v = adj[i]\n",
    "        if len(v) >= 2:\n",
    "            for a in range (0,len(v)-1):\n",
    "                for b in range (1,len(v)):\n",
    "                    n1 = v[a]\n",
    "                    n2 = v[b]\n",
    "                    if n2 in adj[n1]:\n",
    "                        res.append((i,n1,n2))\n",
    "    return res"
   ]
  },
  {
   "cell_type": "code",
   "execution_count": 144,
   "metadata": {},
   "outputs": [
    {
     "data": {
      "text/plain": [
       "[(1, 2, 3), (1, 2, 4), (1, 2, 5), (1, 3, 4), (2, 3, 4), (2, 3, 6)]"
      ]
     },
     "execution_count": 144,
     "metadata": {},
     "output_type": "execute_result"
    }
   ],
   "source": [
    "triangle(e1)"
   ]
  },
  {
   "cell_type": "code",
   "execution_count": 145,
   "metadata": {},
   "outputs": [],
   "source": [
    "def tme1_triangle(filename):\n",
    "    time_start = time.time()\n",
    "    e,n,ne = load_graph2(filename)\n",
    "    print(\"Number of nodes:\", n)\n",
    "    print(\"Number of edges:\", ne)\n",
    "    list_triangle = triangle(e)\n",
    "    print(\"Number of triangles:\", len(list_triangle))\n",
    "    time_end = time.time()\n",
    "    print(\"Charge time:\", time_end - time_start, \"seconds\")\n"
   ]
  },
  {
   "cell_type": "code",
   "execution_count": 149,
   "metadata": {},
   "outputs": [
    {
     "name": "stdout",
     "output_type": "stream",
     "text": [
      "Number of nodes: 3997962\n",
      "Number of edges: 34681189\n",
      "Number of triangles: 177820130\n",
      "Charge time: 4422.933263301849 seconds\n"
     ]
    }
   ],
   "source": [
    "#tme1_triangle('test.txt')\n",
    "#tme1_triangle('com-amazon.ungraph.txt')\n",
    "tme1_triangle('com-lj.ungraph.txt')"
   ]
  },
  {
   "cell_type": "code",
   "execution_count": null,
   "metadata": {},
   "outputs": [],
   "source": []
  }
 ],
 "metadata": {
  "kernelspec": {
   "display_name": "Python 3",
   "language": "python",
   "name": "python3"
  },
  "language_info": {
   "codemirror_mode": {
    "name": "ipython",
    "version": 3
   },
   "file_extension": ".py",
   "mimetype": "text/x-python",
   "name": "python",
   "nbconvert_exporter": "python",
   "pygments_lexer": "ipython3",
   "version": "3.8.3"
  }
 },
 "nbformat": 4,
 "nbformat_minor": 4
}

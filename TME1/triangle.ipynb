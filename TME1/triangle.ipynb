{
 "cells": [
  {
   "source": [
    "import sys, os, time\n",
    "from math import inf, isinf\n",
    "import numpy as np\n",
    "import pandas as pd\n",
    "from itertools import islice"
   ],
   "cell_type": "code",
   "metadata": {},
   "execution_count": 28,
   "outputs": []
  },
  {
   "cell_type": "code",
   "execution_count": 22,
   "metadata": {},
   "outputs": [],
   "source": [
    "def load_graph2(filename):\n",
    "    f = open(filename, 'r')\n",
    "    nodes = set()\n",
    "    nbe = 0\n",
    "    edges = {}\n",
    "    for edge in [line.strip('\\n').split() for line in islice(f, 4, None)]:\n",
    "        nbe = nbe + 1\n",
    "        nodes.add(edge[0])\n",
    "        nodes.add(edge[1])\n",
    "        e1 = int(edge[0])\n",
    "        e2 = int(edge[1])\n",
    "        if e1 not in edges:\n",
    "            edges[e1]=[]\n",
    "        if e2 not in edges:\n",
    "            edges[e2]=[]\n",
    "        if e1 > e2 :\n",
    "                edges[e2].append(e1)\n",
    "        else:\n",
    "                edges[e1].append(e2)\n",
    "    return edges,len(nodes),nbe"
   ]
  },
  {
   "cell_type": "code",
   "execution_count": 23,
   "metadata": {},
   "outputs": [
    {
     "output_type": "execute_result",
     "data": {
      "text/plain": [
       "{1: [2, 3, 4, 5],\n",
       " 2: [3, 4, 5, 6],\n",
       " 3: [4, 6],\n",
       " 4: [],\n",
       " 5: [],\n",
       " 6: [7, 9],\n",
       " 7: [8],\n",
       " 9: [],\n",
       " 8: []}"
      ]
     },
     "metadata": {},
     "execution_count": 23
    }
   ],
   "source": [
    "e1,n1,ne = load_graph2('test.txt')\n",
    "e1"
   ]
  },
  {
   "cell_type": "code",
   "execution_count": 24,
   "metadata": {},
   "outputs": [],
   "source": [
    "def triangle(adj):\n",
    "    res = []\n",
    "    for i in adj:\n",
    "        v = adj[i]\n",
    "        if len(v) >= 2:\n",
    "            for a in range (0,len(v)-1):\n",
    "                for b in range (1,len(v)):\n",
    "                    n1 = v[a]\n",
    "                    n2 = v[b]\n",
    "                    if n2 in adj[n1]:\n",
    "                        res.append((i,n1,n2))\n",
    "    return res"
   ]
  },
  {
   "cell_type": "code",
   "execution_count": 25,
   "metadata": {},
   "outputs": [
    {
     "output_type": "execute_result",
     "data": {
      "text/plain": [
       "[(1, 2, 3), (1, 2, 4), (1, 2, 5), (1, 3, 4), (2, 3, 4), (2, 3, 6)]"
      ]
     },
     "metadata": {},
     "execution_count": 25
    }
   ],
   "source": [
    "triangle(e1)"
   ]
  },
  {
   "cell_type": "code",
   "execution_count": 26,
   "metadata": {},
   "outputs": [],
   "source": [
    "def tme1_triangle(filename):\n",
    "    time_start = time.time()\n",
    "    e,n,ne = load_graph2(filename)\n",
    "    print(\"Number of nodes:\", n)\n",
    "    print(\"Number of edges:\", ne)\n",
    "    list_triangle = triangle(e)\n",
    "    print(\"Number of triangles:\", len(list_triangle))\n",
    "    time_end = time.time()\n",
    "    print(\"Charge time:\", time_end - time_start, \"seconds\")\n"
   ]
  },
  {
   "cell_type": "code",
   "execution_count": 27,
   "metadata": {},
   "outputs": [
    {
     "output_type": "stream",
     "name": "stdout",
     "text": [
      "Number of nodes: 9\nNumber of edges: 13\nNumber of triangles: 6\nCharge time: 0.0036869049072265625 seconds\n"
     ]
    }
   ],
   "source": [
    "tme1_triangle('test.txt')\n",
    "#tme1_triangle('com-amazon.ungraph.txt')\n",
    "#tme1_triangle('com-lj.ungraph.txt')"
   ]
  }
 ],
 "metadata": {
  "kernelspec": {
   "name": "python3",
   "display_name": "Python 3.9.1 64-bit",
   "metadata": {
    "interpreter": {
     "hash": "aee8b7b246df8f9039afb4144a1f6fd8d2ca17a180786b69acc140d282b71a49"
    }
   }
  },
  "language_info": {
   "codemirror_mode": {
    "name": "ipython",
    "version": 3
   },
   "file_extension": ".py",
   "mimetype": "text/x-python",
   "name": "python",
   "nbconvert_exporter": "python",
   "pygments_lexer": "ipython3",
   "version": "3.9.1-final"
  }
 },
 "nbformat": 4,
 "nbformat_minor": 4
}
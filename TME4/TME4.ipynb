{
 "cells": [
  {
   "cell_type": "code",
   "execution_count": 28,
   "metadata": {},
   "outputs": [],
   "source": [
    "import numpy as np\n",
    "import pandas as pd\n",
    "import itertools\n",
    "import time\n",
    "from IPython.display import SVG\n",
    "from scipy import sparse\n",
    "import numpy as np\n",
    "import networkx as nx\n",
    "from math import inf, isinf"
   ]
  },
  {
   "cell_type": "code",
   "execution_count": 29,
   "metadata": {},
   "outputs": [
    {
     "data": {
      "text/plain": [
       "{0: [2], 1: [], 2: [], 3: [], 4: []}"
      ]
     },
     "execution_count": 29,
     "metadata": {},
     "output_type": "execute_result"
    }
   ],
   "source": [
    "ordered_nodes = {v:[] for v in range(0,5)}\n",
    "ordered_nodes[0].append(2)\n",
    "ordered_nodes"
   ]
  },
  {
   "cell_type": "code",
   "execution_count": null,
   "metadata": {},
   "outputs": [],
   "source": []
  },
  {
   "cell_type": "code",
   "execution_count": 30,
   "metadata": {},
   "outputs": [],
   "source": [
    "def load_graph(filename):\n",
    "    \"\"\"\n",
    "    load a graph from file of format:\n",
    "    src dest\n",
    "    :param filename:\n",
    "    :return: G: nx.graph, list of edges, list of nodes\n",
    "    \"\"\"\n",
    "    #time_start = time.time()\n",
    "    data_edge = pd.read_table(filename, skiprows=4,sep='\\t', header=None)\n",
    "    edges = data_edge.values.tolist()\n",
    "    #print(\"Number of edges:\", len(edges))\n",
    "    nodes = set()\n",
    "    for edge in edges:\n",
    "        nodes.add(edge[0])\n",
    "        nodes.add(edge[1])\n",
    "    #print(\"Number of nodes:\", len(nodes))\n",
    "    # make id-index correspondence\n",
    "    v = 0\n",
    "    # dictionary id node:index\n",
    "    node_to_index = {}\n",
    "    for node in nodes:\n",
    "        node_to_index[node] = v\n",
    "        v += 1\n",
    "    for edge in edges:\n",
    "        edge[0] = node_to_index[edge[0]]\n",
    "        edge[1] = node_to_index[edge[1]]\n",
    "    nodes = list(node_to_index.values())\n",
    "    nodes.sort()\n",
    "    G = nx.Graph()\n",
    "    G.add_nodes_from(nodes)\n",
    "    G.add_edges_from(edges)\n",
    "    #time_end = time.time()\n",
    "    #print(\"Charge time:\", time_end - time_start, \"seconds\")\n",
    "    \n",
    "    return G, edges, nodes\n",
    "    "
   ]
  },
  {
   "cell_type": "code",
   "execution_count": 31,
   "metadata": {},
   "outputs": [
    {
     "data": {
      "text/plain": [
       "9"
      ]
     },
     "execution_count": 31,
     "metadata": {},
     "output_type": "execute_result"
    }
   ],
   "source": [
    "G,edges,nodes = load_graph('test.txt')\n",
    "nodes = list(G.nodes)\n",
    "edges = list(G.edges)\n",
    "#np.zeros(len(nodes),int)\n",
    "#G.remove_node(0)\n",
    "#d_out=list(nx.degree(G))\n",
    "d_out = {v: list(nx.all_neighbors(G, v)) for v in G}\n",
    "len(d_out)\n",
    "#min(d_out,key=lambda x:len(d_out[x]))"
   ]
  },
  {
   "cell_type": "code",
   "execution_count": 32,
   "metadata": {},
   "outputs": [],
   "source": [
    "def remove_key(d, key):\n",
    "    r = dict(d)\n",
    "    del r[key]\n",
    "    for name in r:\n",
    "        value = r[name]\n",
    "        if key in value:\n",
    "            value.remove(key)\n",
    "    return r"
   ]
  },
  {
   "cell_type": "code",
   "execution_count": 33,
   "metadata": {},
   "outputs": [],
   "source": [
    "def Core_decomposition(G):\n",
    "    graph = G.copy()\n",
    "    nodes = list(graph.nodes)\n",
    "    n = len(nodes)\n",
    "    ord = list(np.zeros(len(nodes),int)) \n",
    "    corelist = list(np.zeros(len(nodes),int))\n",
    "    c = 0\n",
    "    d_out = {v: list(nx.all_neighbors(G, v)) for v in G}\n",
    "    times = 0\n",
    "    \n",
    "    while len(d_out) != 0:\n",
    "        print(times)\n",
    "        times = times + 1\n",
    "        minnode = min(d_out,key=lambda x:len(d_out[x]))\n",
    "        #print(minnode)\n",
    "        c = max(len(d_out[minnode]),c)\n",
    "        corelist[minnode] = c\n",
    "        ord[minnode] = n\n",
    "        d_out= remove_key(d_out,minnode)\n",
    "        n = n - 1\n",
    "    \n",
    "    return corelist,ord\n",
    "        \n",
    "        "
   ]
  },
  {
   "cell_type": "code",
   "execution_count": 35,
   "metadata": {},
   "outputs": [],
   "source": [
    "def order_nodes_degree(graph):\n",
    "    # number of nodes\n",
    "    n = len(graph.nodes)\n",
    "    # degrees[i] == (i, degree_node_i)\n",
    "    degrees = list(nx.degree(graph))\n",
    "    # (i, degree_node_i)\n",
    "    max_degree = tuple(map(max, zip(*degrees)))[1]\n",
    "    # sort nodes, by degree of each node\n",
    "    sorted_node = [node for (node, degree) in sorted(degrees, key=lambda t:t[1])]\n",
    "\n",
    "    # indexes where each degree section starts\n",
    "    start_degrees_index = list(range(max_degree + 1))\n",
    "    # location of each node in sorted_node\n",
    "    node_index = list(range(n))\n",
    "\n",
    "    # a 2-dimension array (dictionary in python) to represent the nodes having a same degree\n",
    "    ordered_nodes = {i:[] for i in range(max_degree + 1)}\n",
    "\n",
    "    for node in range(n):\n",
    "        d = degrees[node][1]\n",
    "        ordered_nodes[d].append(node)\n",
    "    index = 0\n",
    "    for d in range(max_degree + 1):\n",
    "        start_degrees_index[d] = index\n",
    "        for node in ordered_nodes[d]:\n",
    "            node_index[node] = index\n",
    "            index += 1\n",
    "    return degrees, sorted_node, start_degrees_index, node_index"
   ]
  },
  {
   "cell_type": "code",
   "execution_count": 40,
   "metadata": {},
   "outputs": [],
   "source": [
    "def Core_decompositionfinal(graph):\n",
    "    \"\"\"\n",
    "    core decomposition of a graph\n",
    "    :param graph: a networkx.Graph\n",
    "    :return: a core value of graph\n",
    "    \"\"\"\n",
    "    # core value\n",
    "    c = 0\n",
    "    # nodes\n",
    "    nodes = list(graph.nodes)\n",
    "    n = len(nodes)\n",
    "    # core of each node, initialised to 0\n",
    "    nodes_core = [(i, 0) for i in nodes]\n",
    "    degrees, sorted_nodes, start_degrees_index, node_index = order_nodes_degree(graph)\n",
    "    # reverse order of visiting each node\n",
    "    ord = list(range(n))\n",
    "    for i in range(n):\n",
    "        u = sorted_nodes[i]\n",
    "        u_degree = degrees[u][1]\n",
    "        ord[u] = n-i\n",
    "        visited_neighbour = False\n",
    "        if u_degree > c:\n",
    "            c = u_degree\n",
    "        nodes_core[u] = (u, c)\n",
    "        # remove node u from graph: set degree of node u to inf so not to be considered anymore\n",
    "        degrees[u] = (u, float(inf))\n",
    "        # iterate its neighbours to decrease their degree\n",
    "        neighbours = list(graph.neighbors(u))\n",
    "        for v in neighbours:\n",
    "            v_degree = degrees[v][1]\n",
    "            # consider only nodes with degree != inf\n",
    "            if not isinf(v_degree):\n",
    "                # as u is deleted, v's degree will decrease by 1\n",
    "                degrees[v] = (v, v_degree - 1)\n",
    "                if i < start_degrees_index[v_degree]:\n",
    "                    a = start_degrees_index[v_degree]\n",
    "                    b = node_index[v]\n",
    "                    # swap the head of section with a\n",
    "                    sorted_nodes[a], sorted_nodes[b] = sorted_nodes[b], sorted_nodes[a]\n",
    "                    node_index[sorted_nodes[a]], node_index[sorted_nodes[b]] = node_index[sorted_nodes[b]], node_index[sorted_nodes[a]]\n",
    "                    start_degrees_index[v_degree] += 1\n",
    "                    if not visited_neighbour:\n",
    "                        start_degrees_index[u_degree] += 1\n",
    "                else:\n",
    "                    a = i + 1\n",
    "                    b = int(node_index[v])\n",
    "                    sorted_nodes[a], sorted_nodes[b] = sorted_nodes[b], sorted_nodes[a]\n",
    "                    node_index[sorted_nodes[a]], node_index[sorted_nodes[b]] = node_index[sorted_nodes[b]], node_index[sorted_nodes[a]]\n",
    "                    start_degrees_index[v_degree] += 2\n",
    "                    start_degrees_index[v_degree - 1] += 1\n",
    "                visited_neighbour = True\n",
    "\n",
    "        #print(degrees)\n",
    "        #print(sorted_nodes)\n",
    "        #print(\"---\")\n",
    "    return c, nodes_core, ord"
   ]
  },
  {
   "cell_type": "code",
   "execution_count": 41,
   "metadata": {},
   "outputs": [
    {
     "data": {
      "text/plain": [
       "[(0, 4), (1, 5), (2, 4), (3, 3), (4, 2), (5, 4), (6, 2), (7, 1), (8, 1)]"
      ]
     },
     "execution_count": 41,
     "metadata": {},
     "output_type": "execute_result"
    }
   ],
   "source": [
    "list(nx.degree(G))"
   ]
  },
  {
   "cell_type": "code",
   "execution_count": 42,
   "metadata": {},
   "outputs": [],
   "source": [
    "def cherchemin(d):\n",
    "    m,md = d[0]\n",
    "    for x,y in d:\n",
    "        if y == 0:\n",
    "            return x,y\n",
    "        if y <= md:\n",
    "            md = y\n",
    "            m = x\n",
    "    return m,md"
   ]
  },
  {
   "cell_type": "code",
   "execution_count": null,
   "metadata": {},
   "outputs": [],
   "source": []
  },
  {
   "cell_type": "code",
   "execution_count": null,
   "metadata": {},
   "outputs": [],
   "source": []
  },
  {
   "cell_type": "code",
   "execution_count": 43,
   "metadata": {},
   "outputs": [
    {
     "data": {
      "text/plain": [
       "[3, 2, 1, 4, 6, 5, 7, 9, 8]"
      ]
     },
     "execution_count": 43,
     "metadata": {},
     "output_type": "execute_result"
    }
   ],
   "source": [
    "c,core,ord1 = Core_decompositionfinal(G)\n",
    "ord1"
   ]
  },
  {
   "cell_type": "code",
   "execution_count": 44,
   "metadata": {},
   "outputs": [],
   "source": [
    "def densest_prefix(ordering,G):\n",
    "    edges = list(G.edges)\n",
    "    res = list(np.zeros(len(ordering),int))\n",
    "    \n",
    "    for (e1,e2) in edges:\n",
    "        e = max(ordering[e1],ordering[e2])\n",
    "        res[e-1] = res[e-1] + 1\n",
    "        \n",
    "    #print(res)\n",
    "    for i in range(0,len(res)):\n",
    "        if i != 0:\n",
    "            res[i] = (res[i] + res[i-1])\n",
    "            \n",
    "    #print(res)\n",
    "    for i in range(0,len(res)):\n",
    "        if i != 0:\n",
    "            res[i] = res[i]/(i+1)\n",
    "    \n",
    "    return res"
   ]
  },
  {
   "cell_type": "code",
   "execution_count": 46,
   "metadata": {},
   "outputs": [
    {
     "data": {
      "text/plain": [
       "[0,\n",
       " 0.5,\n",
       " 1.0,\n",
       " 1.5,\n",
       " 1.6,\n",
       " 1.6666666666666667,\n",
       " 1.5714285714285714,\n",
       " 1.5,\n",
       " 1.4444444444444444]"
      ]
     },
     "execution_count": 46,
     "metadata": {},
     "output_type": "execute_result"
    }
   ],
   "source": [
    "densest_prefix(ord1,G)"
   ]
  },
  {
   "cell_type": "code",
   "execution_count": 47,
   "metadata": {},
   "outputs": [
    {
     "data": {
      "text/plain": [
       "[3, 3, 3, 3, 2, 2, 1, 1, 1]"
      ]
     },
     "execution_count": 47,
     "metadata": {},
     "output_type": "execute_result"
    }
   ],
   "source": [
    "list(nx.core_number(G).values())"
   ]
  },
  {
   "cell_type": "code",
   "execution_count": 48,
   "metadata": {},
   "outputs": [
    {
     "data": {
      "text/plain": [
       "EdgeView([(0, 1), (0, 2), (0, 3), (1, 2), (1, 3), (2, 3)])"
      ]
     },
     "execution_count": 48,
     "metadata": {},
     "output_type": "execute_result"
    }
   ],
   "source": [
    "nx.k_core(G).edges()"
   ]
  },
  {
   "cell_type": "code",
   "execution_count": 53,
   "metadata": {},
   "outputs": [],
   "source": [
    "def tme4_q1(filename):\n",
    "    time_start = time.time()\n",
    "    G,edges,nodes = load_graph(filename)\n",
    "    print(\"loadgraph:\",filename )\n",
    "    \n",
    "    add = len(G.edges)/len(G.nodes)\n",
    "    print(\"average degree density :\", add)\n",
    "    \n",
    "    ed = (2*len(G.edges))/(len(G.nodes)*(len(G.nodes)-1))\n",
    "    print(\"the edge density :\", ed)\n",
    "    \n",
    "    #core = list(nx.core_number(G).values())\n",
    "    #print(\"core value :\", max(core))\n",
    "    time_start = time.time()\n",
    "    c,core,ord1 = Core_decompositionfinal(G)\n",
    "    print(\"core value :\",c)\n",
    "    \n",
    "    densest_p = densest_prefix(ord1,G)\n",
    "    max_densest_p = max(densest_p)\n",
    "    print(\"maximum value of densest prefixe:\", max_densest_p)\n",
    "\n",
    "    k = densest_p.index(max_densest_p)+1\n",
    "    print(\"the size of a densest core ordering prefixe:\",k)\n",
    "        \n",
    "    time_end = time.time()\n",
    "    print(\"Charge time:\", time_end - time_start, \"seconds\")\n"
   ]
  },
  {
   "cell_type": "code",
   "execution_count": 54,
   "metadata": {},
   "outputs": [
    {
     "name": "stdout",
     "output_type": "stream",
     "text": [
      "loadgraph: com-amazon.ungraph.txt\n",
      "average degree density : 2.7649277465709856\n",
      "the edge density : 1.6513834036534368e-05\n",
      "core value : 6\n",
      "maximum value of densest prefixe: 3.9166666666666665\n",
      "the size of a densest core ordering prefixe: 48\n",
      "Charge time: 5.13730001449585 seconds\n"
     ]
    }
   ],
   "source": [
    "tme4_q1('com-amazon.ungraph.txt')\n",
    "#tme4_q1('test.txt')"
   ]
  },
  {
   "cell_type": "code",
   "execution_count": null,
   "metadata": {},
   "outputs": [],
   "source": []
  }
 ],
 "metadata": {
  "kernelspec": {
   "display_name": "Python 3",
   "language": "python",
   "name": "python3"
  },
  "language_info": {
   "codemirror_mode": {
    "name": "ipython",
    "version": 3
   },
   "file_extension": ".py",
   "mimetype": "text/x-python",
   "name": "python",
   "nbconvert_exporter": "python",
   "pygments_lexer": "ipython3",
   "version": "3.8.3"
  }
 },
 "nbformat": 4,
 "nbformat_minor": 4
}
